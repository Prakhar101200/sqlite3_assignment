{
 "cells": [
  {
   "cell_type": "code",
   "execution_count": 1,
   "id": "fe9085e1",
   "metadata": {},
   "outputs": [
    {
     "data": {
      "text/plain": [
       "'C:\\\\Users\\\\Asus\\\\Desktop\\\\Python assignments'"
      ]
     },
     "execution_count": 1,
     "metadata": {},
     "output_type": "execute_result"
    }
   ],
   "source": [
    "import os\n",
    "os.getcwd()"
   ]
  },
  {
   "cell_type": "code",
   "execution_count": 2,
   "id": "72ec9169",
   "metadata": {},
   "outputs": [
    {
     "data": {
      "text/plain": [
       "['.ipynb_checkpoints',\n",
       " 'ATM Simulator .ipynb',\n",
       " 'DS AUg - 16th Sep',\n",
       " 'DS Aug - 17th Sep',\n",
       " 'ds aug - 23rd sep',\n",
       " 'ds aug - 24th sep',\n",
       " 'DS aug 02 Oct',\n",
       " 'Python_Assignment-1.ipynb',\n",
       " 'Python_Assignment-2.ipynb',\n",
       " 'sqlite3_assignment1.ipynb',\n",
       " 'SQL_ASSIGNMENT1.ipynb',\n",
       " 'Survival Duration Calculator .ipynb',\n",
       " 'Untitled.ipynb']"
      ]
     },
     "execution_count": 2,
     "metadata": {},
     "output_type": "execute_result"
    }
   ],
   "source": [
    "os.listdir()"
   ]
  },
  {
   "cell_type": "code",
   "execution_count": 3,
   "id": "4ff7d8ba",
   "metadata": {},
   "outputs": [],
   "source": [
    "import sqlite3\n",
    "connection = sqlite3.connect(\"Person.db\")\n",
    "crsr = connection.cursor()"
   ]
  },
  {
   "cell_type": "code",
   "execution_count": 4,
   "id": "b629d2be",
   "metadata": {},
   "outputs": [
    {
     "name": "stdout",
     "output_type": "stream",
     "text": [
      "['Binary', 'Blob', 'Connection', 'Cursor', 'DataError', 'DatabaseError', 'Date', 'DateFromTicks', 'Error', 'IntegrityError', 'InterfaceError', 'InternalError', 'NotSupportedError', 'OperationalError', 'PARSE_COLNAMES', 'PARSE_DECLTYPES', 'PrepareProtocol', 'ProgrammingError', 'Row', 'SQLITE_ABORT', 'SQLITE_ABORT_ROLLBACK', 'SQLITE_ALTER_TABLE', 'SQLITE_ANALYZE', 'SQLITE_ATTACH', 'SQLITE_AUTH', 'SQLITE_AUTH_USER', 'SQLITE_BUSY', 'SQLITE_BUSY_RECOVERY', 'SQLITE_BUSY_SNAPSHOT', 'SQLITE_BUSY_TIMEOUT', 'SQLITE_CANTOPEN', 'SQLITE_CANTOPEN_CONVPATH', 'SQLITE_CANTOPEN_DIRTYWAL', 'SQLITE_CANTOPEN_FULLPATH', 'SQLITE_CANTOPEN_ISDIR', 'SQLITE_CANTOPEN_NOTEMPDIR', 'SQLITE_CANTOPEN_SYMLINK', 'SQLITE_CONSTRAINT', 'SQLITE_CONSTRAINT_CHECK', 'SQLITE_CONSTRAINT_COMMITHOOK', 'SQLITE_CONSTRAINT_FOREIGNKEY', 'SQLITE_CONSTRAINT_FUNCTION', 'SQLITE_CONSTRAINT_NOTNULL', 'SQLITE_CONSTRAINT_PINNED', 'SQLITE_CONSTRAINT_PRIMARYKEY', 'SQLITE_CONSTRAINT_ROWID', 'SQLITE_CONSTRAINT_TRIGGER', 'SQLITE_CONSTRAINT_UNIQUE', 'SQLITE_CONSTRAINT_VTAB', 'SQLITE_CORRUPT', 'SQLITE_CORRUPT_INDEX', 'SQLITE_CORRUPT_SEQUENCE', 'SQLITE_CORRUPT_VTAB', 'SQLITE_CREATE_INDEX', 'SQLITE_CREATE_TABLE', 'SQLITE_CREATE_TEMP_INDEX', 'SQLITE_CREATE_TEMP_TABLE', 'SQLITE_CREATE_TEMP_TRIGGER', 'SQLITE_CREATE_TEMP_VIEW', 'SQLITE_CREATE_TRIGGER', 'SQLITE_CREATE_VIEW', 'SQLITE_CREATE_VTABLE', 'SQLITE_DELETE', 'SQLITE_DENY', 'SQLITE_DETACH', 'SQLITE_DONE', 'SQLITE_DROP_INDEX', 'SQLITE_DROP_TABLE', 'SQLITE_DROP_TEMP_INDEX', 'SQLITE_DROP_TEMP_TABLE', 'SQLITE_DROP_TEMP_TRIGGER', 'SQLITE_DROP_TEMP_VIEW', 'SQLITE_DROP_TRIGGER', 'SQLITE_DROP_VIEW', 'SQLITE_DROP_VTABLE', 'SQLITE_EMPTY', 'SQLITE_ERROR', 'SQLITE_ERROR_MISSING_COLLSEQ', 'SQLITE_ERROR_RETRY', 'SQLITE_ERROR_SNAPSHOT', 'SQLITE_FORMAT', 'SQLITE_FULL', 'SQLITE_FUNCTION', 'SQLITE_IGNORE', 'SQLITE_INSERT', 'SQLITE_INTERNAL', 'SQLITE_INTERRUPT', 'SQLITE_IOERR', 'SQLITE_IOERR_ACCESS', 'SQLITE_IOERR_AUTH', 'SQLITE_IOERR_BEGIN_ATOMIC', 'SQLITE_IOERR_BLOCKED', 'SQLITE_IOERR_CHECKRESERVEDLOCK', 'SQLITE_IOERR_CLOSE', 'SQLITE_IOERR_COMMIT_ATOMIC', 'SQLITE_IOERR_CONVPATH', 'SQLITE_IOERR_CORRUPTFS', 'SQLITE_IOERR_DATA', 'SQLITE_IOERR_DELETE', 'SQLITE_IOERR_DELETE_NOENT', 'SQLITE_IOERR_DIR_CLOSE', 'SQLITE_IOERR_DIR_FSYNC', 'SQLITE_IOERR_FSTAT', 'SQLITE_IOERR_FSYNC', 'SQLITE_IOERR_GETTEMPPATH', 'SQLITE_IOERR_LOCK', 'SQLITE_IOERR_MMAP', 'SQLITE_IOERR_NOMEM', 'SQLITE_IOERR_RDLOCK', 'SQLITE_IOERR_READ', 'SQLITE_IOERR_ROLLBACK_ATOMIC', 'SQLITE_IOERR_SEEK', 'SQLITE_IOERR_SHMLOCK', 'SQLITE_IOERR_SHMMAP', 'SQLITE_IOERR_SHMOPEN', 'SQLITE_IOERR_SHMSIZE', 'SQLITE_IOERR_SHORT_READ', 'SQLITE_IOERR_TRUNCATE', 'SQLITE_IOERR_UNLOCK', 'SQLITE_IOERR_VNODE', 'SQLITE_IOERR_WRITE', 'SQLITE_LIMIT_ATTACHED', 'SQLITE_LIMIT_COLUMN', 'SQLITE_LIMIT_COMPOUND_SELECT', 'SQLITE_LIMIT_EXPR_DEPTH', 'SQLITE_LIMIT_FUNCTION_ARG', 'SQLITE_LIMIT_LENGTH', 'SQLITE_LIMIT_LIKE_PATTERN_LENGTH', 'SQLITE_LIMIT_SQL_LENGTH', 'SQLITE_LIMIT_TRIGGER_DEPTH', 'SQLITE_LIMIT_VARIABLE_NUMBER', 'SQLITE_LIMIT_VDBE_OP', 'SQLITE_LIMIT_WORKER_THREADS', 'SQLITE_LOCKED', 'SQLITE_LOCKED_SHAREDCACHE', 'SQLITE_LOCKED_VTAB', 'SQLITE_MISMATCH', 'SQLITE_MISUSE', 'SQLITE_NOLFS', 'SQLITE_NOMEM', 'SQLITE_NOTADB', 'SQLITE_NOTFOUND', 'SQLITE_NOTICE', 'SQLITE_NOTICE_RECOVER_ROLLBACK', 'SQLITE_NOTICE_RECOVER_WAL', 'SQLITE_OK', 'SQLITE_OK_LOAD_PERMANENTLY', 'SQLITE_OK_SYMLINK', 'SQLITE_PERM', 'SQLITE_PRAGMA', 'SQLITE_PROTOCOL', 'SQLITE_RANGE', 'SQLITE_READ', 'SQLITE_READONLY', 'SQLITE_READONLY_CANTINIT', 'SQLITE_READONLY_CANTLOCK', 'SQLITE_READONLY_DBMOVED', 'SQLITE_READONLY_DIRECTORY', 'SQLITE_READONLY_RECOVERY', 'SQLITE_READONLY_ROLLBACK', 'SQLITE_RECURSIVE', 'SQLITE_REINDEX', 'SQLITE_ROW', 'SQLITE_SAVEPOINT', 'SQLITE_SCHEMA', 'SQLITE_SELECT', 'SQLITE_TOOBIG', 'SQLITE_TRANSACTION', 'SQLITE_UPDATE', 'SQLITE_WARNING', 'SQLITE_WARNING_AUTOINDEX', 'Time', 'TimeFromTicks', 'Timestamp', 'TimestampFromTicks', 'Warning', '__builtins__', '__cached__', '__doc__', '__file__', '__getattr__', '__loader__', '__name__', '__package__', '__path__', '__spec__', 'adapt', 'adapters', 'apilevel', 'collections', 'complete_statement', 'connect', 'converters', 'datetime', 'dbapi2', 'enable_callback_tracebacks', 'enable_shared_cache', 'paramstyle', 'register_adapter', 'register_converter', 'sqlite_version', 'sqlite_version_info', 'threadsafety', 'time', 'version', 'version_info']\n"
     ]
    }
   ],
   "source": [
    "print(dir(sqlite3))"
   ]
  },
  {
   "cell_type": "code",
   "execution_count": 5,
   "id": "c434184d",
   "metadata": {},
   "outputs": [
    {
     "data": {
      "text/plain": [
       "<sqlite3.Cursor at 0x194a9152e40>"
      ]
     },
     "execution_count": 5,
     "metadata": {},
     "output_type": "execute_result"
    }
   ],
   "source": [
    "sql_command = \"\"\"CREATE TABLE ages (name VARCHAR (128), age INTEGER)\"\"\"\n",
    "crsr.execute(sql_command)"
   ]
  },
  {
   "cell_type": "code",
   "execution_count": 6,
   "id": "e3d55636",
   "metadata": {},
   "outputs": [],
   "source": [
    "sql_command = \"\"\"INSERT INTO ages VALUES(\"Mara\", 28);\"\"\"\n",
    "crsr.execute(sql_command)\n",
    "sql_command = \"\"\"INSERT INTO ages VALUES(\"otto\", 33);\"\"\"\n",
    "crsr.execute(sql_command)\n",
    "sql_command = \"\"\"INSERT INTO ages VALUES(\"Fyn\", 31);\"\"\"\n",
    "crsr.execute(sql_command)\n",
    "sql_command = \"\"\"INSERT INTO ages VALUES(\"Neshawn\", 17);\"\"\"\n",
    "crsr.execute(sql_command)\n",
    "connection.commit()"
   ]
  },
  {
   "cell_type": "code",
   "execution_count": 8,
   "id": "640a0dae",
   "metadata": {},
   "outputs": [
    {
     "name": "stdout",
     "output_type": "stream",
     "text": [
      "('46796E3331',)\n"
     ]
    }
   ],
   "source": [
    "sql_command = \"SELECT hex(name||age) AS X FROM ages ORDER BY X\"\n",
    "crsr.execute(sql_command)\n",
    "result = crsr.fetchone()\n",
    "print(result)\n"
   ]
  },
  {
   "cell_type": "code",
   "execution_count": 9,
   "id": "5a147d96",
   "metadata": {},
   "outputs": [],
   "source": [
    "crsr.close()\n",
    "connection.close()"
   ]
  },
  {
   "cell_type": "code",
   "execution_count": null,
   "id": "b362e780",
   "metadata": {},
   "outputs": [],
   "source": []
  }
 ],
 "metadata": {
  "kernelspec": {
   "display_name": "Python 3 (ipykernel)",
   "language": "python",
   "name": "python3"
  },
  "language_info": {
   "codemirror_mode": {
    "name": "ipython",
    "version": 3
   },
   "file_extension": ".py",
   "mimetype": "text/x-python",
   "name": "python",
   "nbconvert_exporter": "python",
   "pygments_lexer": "ipython3",
   "version": "3.11.4"
  }
 },
 "nbformat": 4,
 "nbformat_minor": 5
}
